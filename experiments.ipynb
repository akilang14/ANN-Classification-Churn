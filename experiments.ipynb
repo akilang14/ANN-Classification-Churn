{
 "cells": [
  {
   "cell_type": "code",
   "execution_count": null,
   "id": "860292e8",
   "metadata": {},
   "outputs": [],
   "source": [
    "print(\"Getting Started with AI/ML Experiments\")"
   ]
  },
  {
   "cell_type": "code",
   "execution_count": null,
   "id": "c4950646",
   "metadata": {},
   "outputs": [],
   "source": [
    "import sys"
   ]
  },
  {
   "cell_type": "code",
   "execution_count": null,
   "id": "fc4b6e96",
   "metadata": {},
   "outputs": [],
   "source": []
  }
 ],
 "metadata": {
  "kernelspec": {
   "display_name": ".venv311 (3.11.9)",
   "language": "python",
   "name": "python3"
  },
  "language_info": {
   "name": "python",
   "version": "3.11.9"
  }
 },
 "nbformat": 4,
 "nbformat_minor": 5
}
